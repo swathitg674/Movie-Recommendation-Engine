{
  "nbformat": 4,
  "nbformat_minor": 0,
  "metadata": {
    "colab": {
      "name": "movie_recommender",
      "provenance": [],
      "collapsed_sections": []
    },
    "kernelspec": {
      "name": "python3",
      "display_name": "Python 3"
    }
  },
  "cells": [
    {
      "cell_type": "markdown",
      "metadata": {
        "id": "lpn0ySuNUlAL",
        "colab_type": "text"
      },
      "source": [
        "# Building the recommendation engine:\n",
        "\n",
        "We need to import all the required libraries and then read the csv file using read_csv() method."
      ]
    },
    {
      "cell_type": "code",
      "metadata": {
        "id": "zGjDu-huUyvi",
        "colab_type": "code",
        "colab": {}
      },
      "source": [
        "import pandas as pd\n",
        "import numpy as np\n",
        "from sklearn.feature_extraction.text import CountVectorizer\n",
        "from sklearn.metrics.pairwise import cosine_similarity\n",
        "\n",
        "df = pd.read_csv(\"movie_dataset.csv\")"
      ],
      "execution_count": null,
      "outputs": []
    },
    {
      "cell_type": "markdown",
      "metadata": {
        "id": "hiaT0la3Y4h8",
        "colab_type": "text"
      },
      "source": [
        "Here we choose keywords, cast, genres and director column to use as our feature set(the so called “content” of the movie)."
      ]
    },
    {
      "cell_type": "code",
      "metadata": {
        "id": "sgTUKsjzZGUO",
        "colab_type": "code",
        "colab": {}
      },
      "source": [
        "features = ['keywords','cast','genres','director']"
      ],
      "execution_count": null,
      "outputs": []
    },
    {
      "cell_type": "markdown",
      "metadata": {
        "id": "U46P0R3UZRUS",
        "colab_type": "text"
      },
      "source": [
        "To create a function for combining the values."
      ]
    },
    {
      "cell_type": "code",
      "metadata": {
        "id": "P261XwH4ZSay",
        "colab_type": "code",
        "colab": {}
      },
      "source": [
        "def combine_features(row):\n",
        "    return row['keywords']+\" \"+row['cast']+\" \"+row['genres']+\" \"+row['director']"
      ],
      "execution_count": null,
      "outputs": []
    },
    {
      "cell_type": "markdown",
      "metadata": {
        "id": "BuHKWwqwZWp0",
        "colab_type": "text"
      },
      "source": [
        "We need to call this function over each row of our dataframe. But, before doing that, we need to clean and preprocess the data for our use. We will fill all the NaN values with blank string in the dataframe."
      ]
    },
    {
      "cell_type": "code",
      "metadata": {
        "id": "oo1YMDNzZf1Y",
        "colab_type": "code",
        "colab": {}
      },
      "source": [
        "for feature in features:\n",
        "    df[feature] = df[feature].fillna('') #filling all NaNs with blank string\n",
        "\n",
        "df[\"combined_features\"] = df.apply(combine_features,axis=1) #applying combined_features() method over each rows of dataframe and storing the combined string in \"combined_features\" column"
      ],
      "execution_count": null,
      "outputs": []
    },
    {
      "cell_type": "code",
      "metadata": {
        "id": "KEl42P_EZ4UO",
        "colab_type": "code",
        "colab": {
          "base_uri": "https://localhost:8080/",
          "height": 69
        },
        "outputId": "f7b67ef3-ea7b-4bff-c80d-6ca5d1c939c0"
      },
      "source": [
        "df.iloc[0].combined_features"
      ],
      "execution_count": null,
      "outputs": [
        {
          "output_type": "execute_result",
          "data": {
            "application/vnd.google.colaboratory.intrinsic": {
              "type": "string"
            },
            "text/plain": [
              "'culture clash future space war space colony society Sam Worthington Zoe Saldana Sigourney Weaver Stephen Lang Michelle Rodriguez Action Adventure Fantasy Science Fiction James Cameron'"
            ]
          },
          "metadata": {
            "tags": []
          },
          "execution_count": 16
        }
      ]
    },
    {
      "cell_type": "markdown",
      "metadata": {
        "id": "y3qmpBbEaIAj",
        "colab_type": "text"
      },
      "source": [
        "Now that we have obtained the combined strings, we can now feed these strings to a CountVectorizer() object for getting the count matrix."
      ]
    },
    {
      "cell_type": "code",
      "metadata": {
        "id": "jiQBCYagaJSq",
        "colab_type": "code",
        "colab": {}
      },
      "source": [
        "cv = CountVectorizer() #creating new CountVectorizer() object\n",
        "count_matrix = cv.fit_transform(df[\"combined_features\"]) #feeding combined strings(movie contents) to CountVectorizer() object"
      ],
      "execution_count": null,
      "outputs": []
    },
    {
      "cell_type": "markdown",
      "metadata": {
        "id": "0DAOqAASaPJs",
        "colab_type": "text"
      },
      "source": [
        "Now, we need to obtain the cosine similarity matrix from the count matrix."
      ]
    },
    {
      "cell_type": "code",
      "metadata": {
        "id": "Ur8PMnY_aV0B",
        "colab_type": "code",
        "colab": {}
      },
      "source": [
        "cosine_sim = cosine_similarity(count_matrix)"
      ],
      "execution_count": null,
      "outputs": []
    },
    {
      "cell_type": "markdown",
      "metadata": {
        "id": "yNq9HXQkabaT",
        "colab_type": "text"
      },
      "source": [
        "Now, we will define two helper functions to get movie title from movie index and vice-versa."
      ]
    },
    {
      "cell_type": "code",
      "metadata": {
        "id": "jlPR8olWadtm",
        "colab_type": "code",
        "colab": {}
      },
      "source": [
        "def get_title_from_index(index):\n",
        "    return df[df.index == index][\"title\"].values[0]\n",
        "def get_index_from_title(title):\n",
        "    return df[df.title == title][\"index\"].values[0]"
      ],
      "execution_count": null,
      "outputs": []
    },
    {
      "cell_type": "markdown",
      "metadata": {
        "id": "thhP5lprahS6",
        "colab_type": "text"
      },
      "source": [
        "Our next step is to get the title of the movie that the user currently likes. Then we will find the index of that movie. After that, we will access the row corresponding to this movie in the similarity matrix. Thus, we will get the similarity scores of all other movies from the current movie. Then we will enumerate through all the similarity scores of that movie to make a tuple of movie index and similarity score. This will convert a row of similarity scores. Here, each item is in this form- (movie index, similarity score)."
      ]
    },
    {
      "cell_type": "code",
      "metadata": {
        "id": "BrZ4zoMdamq0",
        "colab_type": "code",
        "colab": {}
      },
      "source": [
        "movie_user_likes = \"Avatar\"\n",
        "movie_index = get_index_from_title(movie_user_likes)\n",
        "similar_movies = list(enumerate(cosine_sim[movie_index])) #accessing the row corresponding to given movie to find all the similarity scores for that movie and then enumerating over it"
      ],
      "execution_count": null,
      "outputs": []
    },
    {
      "cell_type": "markdown",
      "metadata": {
        "id": "wxzliCrqauTh",
        "colab_type": "text"
      },
      "source": [
        "We will sort the list similar_movies according to similarity scores."
      ]
    },
    {
      "cell_type": "code",
      "metadata": {
        "id": "2dxOOjFyaxVP",
        "colab_type": "code",
        "colab": {}
      },
      "source": [
        "sorted_similar_movies = sorted(similar_movies,key=lambda x:x[1],reverse=True)[1:]"
      ],
      "execution_count": null,
      "outputs": []
    },
    {
      "cell_type": "markdown",
      "metadata": {
        "id": "v4egsC3ra1aU",
        "colab_type": "text"
      },
      "source": [
        "Now, we will run a loop to print first 10 entries from sorted_similar_movies list."
      ]
    },
    {
      "cell_type": "code",
      "metadata": {
        "id": "58VtR9hZa2hC",
        "colab_type": "code",
        "colab": {
          "base_uri": "https://localhost:8080/",
          "height": 238
        },
        "outputId": "212eeb1e-a010-4835-b6c4-c11ce1af5554"
      },
      "source": [
        "i=0\n",
        "print(\"Top 10 similar movies to \"+movie_user_likes+\" are:\\n\")\n",
        "for element in sorted_similar_movies:\n",
        "    print(get_title_from_index(element[0]))\n",
        "    i=i+1\n",
        "    if i>10:\n",
        "        break"
      ],
      "execution_count": null,
      "outputs": [
        {
          "output_type": "stream",
          "text": [
            "Top 10 similar movies to Avatar are:\n",
            "\n",
            "Guardians of the Galaxy\n",
            "Aliens\n",
            "Star Wars: Clone Wars: Volume 1\n",
            "Star Trek Into Darkness\n",
            "Star Trek Beyond\n",
            "Alien\n",
            "Lockout\n",
            "Jason X\n",
            "The Helix... Loaded\n",
            "Moonraker\n",
            "Planet of the Apes\n"
          ],
          "name": "stdout"
        }
      ]
    }
  ]
}